{
 "cells": [
  {
   "cell_type": "code",
   "execution_count": 166,
   "metadata": {},
   "outputs": [],
   "source": [
    "import streamlit as st;\n",
    "import numpy as np;\n",
    "import seaborn as sns;\n",
    "import pandas as pd;\n",
    "import re;\n",
    "%matplotlib inline"
   ]
  },
  {
   "cell_type": "code",
   "execution_count": 167,
   "metadata": {},
   "outputs": [],
   "source": [
    "f=open('./WhatsApp Chat with Valorant boys🔪🗡️🛡️🔫💣🧨.txt','r',encoding='utf-8')\n",
    "data=f.read()"
   ]
  },
  {
   "cell_type": "code",
   "execution_count": 168,
   "metadata": {},
   "outputs": [
    {
     "data": {
      "text/plain": [
       "['4/28/21, 1:58 PM - Messages and calls are end-to-end encrypted. No one outside of this chat, not even WhatsApp, can read or listen to them. Tap to learn more.',\n",
       " '7/30/20, 7:23 PM - Vignesh created group \"Valorant boys🔪🗡️🛡️🔫💣🧨\"',\n",
       " '4/28/21, 1:58 PM - Vishwajith Krishna added you',\n",
       " '4/29/21, 4:47 PM - RAJASHEKAR V.T: https://youtu.be/h-0NbkvYBRU',\n",
       " '4/29/21, 4:49 PM - Vignesh: Pro👌🏼']"
      ]
     },
     "execution_count": 168,
     "metadata": {},
     "output_type": "execute_result"
    }
   ],
   "source": [
    "dummy=data.split('\\n')\n",
    "dummy[:5]"
   ]
  },
  {
   "cell_type": "code",
   "execution_count": 169,
   "metadata": {},
   "outputs": [],
   "source": [
    "pattern=r'\\d{1,2}/\\d{1,2}/\\d{2,4},\\s\\d{1,2}:\\d{2}\\s\\D{2}\\s-\\s'\n",
    "messages=re.split(pattern,data)[1:]\n",
    "dates=re.findall(pattern,data)"
   ]
  },
  {
   "cell_type": "code",
   "execution_count": 170,
   "metadata": {},
   "outputs": [
    {
     "data": {
      "text/plain": [
       "['Messages and calls are end-to-end encrypted. No one outside of this chat, not even WhatsApp, can read or listen to them. Tap to learn more.\\n',\n",
       " 'Vignesh created group \"Valorant boys🔪🗡️🛡️🔫💣🧨\"\\n']"
      ]
     },
     "execution_count": 170,
     "metadata": {},
     "output_type": "execute_result"
    }
   ],
   "source": [
    "messages[:2]"
   ]
  },
  {
   "cell_type": "code",
   "execution_count": 171,
   "metadata": {},
   "outputs": [
    {
     "data": {
      "text/plain": [
       "['4/28/21, 1:58 PM - ', '7/30/20, 7:23 PM - ']"
      ]
     },
     "execution_count": 171,
     "metadata": {},
     "output_type": "execute_result"
    }
   ],
   "source": [
    "dates[:2]"
   ]
  },
  {
   "cell_type": "code",
   "execution_count": 172,
   "metadata": {},
   "outputs": [],
   "source": [
    "def gettimeanddate(string):\n",
    "    string=string.split(',')\n",
    "    date,time=string[0],string[1]\n",
    "    time=time.split('-')\n",
    "    text=time[0].strip()\n",
    "    time=re.findall(r'\\d{1,2}:\\d{1,2}',text)[0]\n",
    "    return date + \" \" + time"
   ]
  },
  {
   "cell_type": "code",
   "execution_count": 173,
   "metadata": {},
   "outputs": [],
   "source": [
    "df=pd.DataFrame({'user_messages':messages,\n",
    "                     'message_date':dates})"
   ]
  },
  {
   "cell_type": "code",
   "execution_count": 174,
   "metadata": {},
   "outputs": [
    {
     "data": {
      "text/html": [
       "<div>\n",
       "<style scoped>\n",
       "    .dataframe tbody tr th:only-of-type {\n",
       "        vertical-align: middle;\n",
       "    }\n",
       "\n",
       "    .dataframe tbody tr th {\n",
       "        vertical-align: top;\n",
       "    }\n",
       "\n",
       "    .dataframe thead th {\n",
       "        text-align: right;\n",
       "    }\n",
       "</style>\n",
       "<table border=\"1\" class=\"dataframe\">\n",
       "  <thead>\n",
       "    <tr style=\"text-align: right;\">\n",
       "      <th></th>\n",
       "      <th>user_messages</th>\n",
       "      <th>message_date</th>\n",
       "    </tr>\n",
       "  </thead>\n",
       "  <tbody>\n",
       "    <tr>\n",
       "      <th>0</th>\n",
       "      <td>Messages and calls are end-to-end encrypted. N...</td>\n",
       "      <td>4/28/21, 1:58 PM -</td>\n",
       "    </tr>\n",
       "    <tr>\n",
       "      <th>1</th>\n",
       "      <td>Vignesh created group \"Valorant boys🔪🗡️🛡️🔫💣🧨\"\\n</td>\n",
       "      <td>7/30/20, 7:23 PM -</td>\n",
       "    </tr>\n",
       "    <tr>\n",
       "      <th>2</th>\n",
       "      <td>Vishwajith Krishna added you\\n</td>\n",
       "      <td>4/28/21, 1:58 PM -</td>\n",
       "    </tr>\n",
       "    <tr>\n",
       "      <th>3</th>\n",
       "      <td>RAJASHEKAR V.T: https://youtu.be/h-0NbkvYBRU\\n</td>\n",
       "      <td>4/29/21, 4:47 PM -</td>\n",
       "    </tr>\n",
       "    <tr>\n",
       "      <th>4</th>\n",
       "      <td>Vignesh: Pro👌🏼\\n</td>\n",
       "      <td>4/29/21, 4:49 PM -</td>\n",
       "    </tr>\n",
       "    <tr>\n",
       "      <th>...</th>\n",
       "      <td>...</td>\n",
       "      <td>...</td>\n",
       "    </tr>\n",
       "    <tr>\n",
       "      <th>3586</th>\n",
       "      <td>Vishwajith Krishna: Bro\\n</td>\n",
       "      <td>10/19/22, 11:43 PM -</td>\n",
       "    </tr>\n",
       "    <tr>\n",
       "      <th>3587</th>\n",
       "      <td>Vishwajith Krishna: 🥲🔫\\n</td>\n",
       "      <td>10/19/22, 11:43 PM -</td>\n",
       "    </tr>\n",
       "    <tr>\n",
       "      <th>3588</th>\n",
       "      <td>RAJASHEKAR V.T: 🤝🤝😂😂\\n</td>\n",
       "      <td>10/19/22, 11:44 PM -</td>\n",
       "    </tr>\n",
       "    <tr>\n",
       "      <th>3589</th>\n",
       "      <td>Mr. Smokey: Anyone playing?\\n</td>\n",
       "      <td>10/20/22, 10:22 PM -</td>\n",
       "    </tr>\n",
       "    <tr>\n",
       "      <th>3590</th>\n",
       "      <td>RAJASHEKAR V.T: Yes boss\\n</td>\n",
       "      <td>10/20/22, 10:27 PM -</td>\n",
       "    </tr>\n",
       "  </tbody>\n",
       "</table>\n",
       "<p>3591 rows × 2 columns</p>\n",
       "</div>"
      ],
      "text/plain": [
       "                                          user_messages           message_date\n",
       "0     Messages and calls are end-to-end encrypted. N...    4/28/21, 1:58 PM - \n",
       "1       Vignesh created group \"Valorant boys🔪🗡️🛡️🔫💣🧨\"\\n    7/30/20, 7:23 PM - \n",
       "2                        Vishwajith Krishna added you\\n    4/28/21, 1:58 PM - \n",
       "3        RAJASHEKAR V.T: https://youtu.be/h-0NbkvYBRU\\n    4/29/21, 4:47 PM - \n",
       "4                                      Vignesh: Pro👌🏼\\n    4/29/21, 4:49 PM - \n",
       "...                                                 ...                    ...\n",
       "3586                          Vishwajith Krishna: Bro\\n  10/19/22, 11:43 PM - \n",
       "3587                           Vishwajith Krishna: 🥲🔫\\n  10/19/22, 11:43 PM - \n",
       "3588                             RAJASHEKAR V.T: 🤝🤝😂😂\\n  10/19/22, 11:44 PM - \n",
       "3589                      Mr. Smokey: Anyone playing?\\n  10/20/22, 10:22 PM - \n",
       "3590                         RAJASHEKAR V.T: Yes boss\\n  10/20/22, 10:27 PM - \n",
       "\n",
       "[3591 rows x 2 columns]"
      ]
     },
     "execution_count": 174,
     "metadata": {},
     "output_type": "execute_result"
    }
   ],
   "source": [
    "df"
   ]
  },
  {
   "cell_type": "code",
   "execution_count": 175,
   "metadata": {},
   "outputs": [],
   "source": [
    "df['message_date']=df['message_date'].apply(lambda text:gettimeanddate(text))\n",
    "df.rename(columns={'message_date':'Date'},inplace=True)"
   ]
  },
  {
   "cell_type": "code",
   "execution_count": 176,
   "metadata": {},
   "outputs": [
    {
     "data": {
      "text/html": [
       "<div>\n",
       "<style scoped>\n",
       "    .dataframe tbody tr th:only-of-type {\n",
       "        vertical-align: middle;\n",
       "    }\n",
       "\n",
       "    .dataframe tbody tr th {\n",
       "        vertical-align: top;\n",
       "    }\n",
       "\n",
       "    .dataframe thead th {\n",
       "        text-align: right;\n",
       "    }\n",
       "</style>\n",
       "<table border=\"1\" class=\"dataframe\">\n",
       "  <thead>\n",
       "    <tr style=\"text-align: right;\">\n",
       "      <th></th>\n",
       "      <th>user_messages</th>\n",
       "      <th>Date</th>\n",
       "    </tr>\n",
       "  </thead>\n",
       "  <tbody>\n",
       "    <tr>\n",
       "      <th>0</th>\n",
       "      <td>Messages and calls are end-to-end encrypted. N...</td>\n",
       "      <td>4/28/21 1:58</td>\n",
       "    </tr>\n",
       "    <tr>\n",
       "      <th>1</th>\n",
       "      <td>Vignesh created group \"Valorant boys🔪🗡️🛡️🔫💣🧨\"\\n</td>\n",
       "      <td>7/30/20 7:23</td>\n",
       "    </tr>\n",
       "    <tr>\n",
       "      <th>2</th>\n",
       "      <td>Vishwajith Krishna added you\\n</td>\n",
       "      <td>4/28/21 1:58</td>\n",
       "    </tr>\n",
       "    <tr>\n",
       "      <th>3</th>\n",
       "      <td>RAJASHEKAR V.T: https://youtu.be/h-0NbkvYBRU\\n</td>\n",
       "      <td>4/29/21 4:47</td>\n",
       "    </tr>\n",
       "    <tr>\n",
       "      <th>4</th>\n",
       "      <td>Vignesh: Pro👌🏼\\n</td>\n",
       "      <td>4/29/21 4:49</td>\n",
       "    </tr>\n",
       "    <tr>\n",
       "      <th>...</th>\n",
       "      <td>...</td>\n",
       "      <td>...</td>\n",
       "    </tr>\n",
       "    <tr>\n",
       "      <th>3586</th>\n",
       "      <td>Vishwajith Krishna: Bro\\n</td>\n",
       "      <td>10/19/22 11:43</td>\n",
       "    </tr>\n",
       "    <tr>\n",
       "      <th>3587</th>\n",
       "      <td>Vishwajith Krishna: 🥲🔫\\n</td>\n",
       "      <td>10/19/22 11:43</td>\n",
       "    </tr>\n",
       "    <tr>\n",
       "      <th>3588</th>\n",
       "      <td>RAJASHEKAR V.T: 🤝🤝😂😂\\n</td>\n",
       "      <td>10/19/22 11:44</td>\n",
       "    </tr>\n",
       "    <tr>\n",
       "      <th>3589</th>\n",
       "      <td>Mr. Smokey: Anyone playing?\\n</td>\n",
       "      <td>10/20/22 10:22</td>\n",
       "    </tr>\n",
       "    <tr>\n",
       "      <th>3590</th>\n",
       "      <td>RAJASHEKAR V.T: Yes boss\\n</td>\n",
       "      <td>10/20/22 10:27</td>\n",
       "    </tr>\n",
       "  </tbody>\n",
       "</table>\n",
       "<p>3591 rows × 2 columns</p>\n",
       "</div>"
      ],
      "text/plain": [
       "                                          user_messages            Date\n",
       "0     Messages and calls are end-to-end encrypted. N...    4/28/21 1:58\n",
       "1       Vignesh created group \"Valorant boys🔪🗡️🛡️🔫💣🧨\"\\n    7/30/20 7:23\n",
       "2                        Vishwajith Krishna added you\\n    4/28/21 1:58\n",
       "3        RAJASHEKAR V.T: https://youtu.be/h-0NbkvYBRU\\n    4/29/21 4:47\n",
       "4                                      Vignesh: Pro👌🏼\\n    4/29/21 4:49\n",
       "...                                                 ...             ...\n",
       "3586                          Vishwajith Krishna: Bro\\n  10/19/22 11:43\n",
       "3587                           Vishwajith Krishna: 🥲🔫\\n  10/19/22 11:43\n",
       "3588                             RAJASHEKAR V.T: 🤝🤝😂😂\\n  10/19/22 11:44\n",
       "3589                      Mr. Smokey: Anyone playing?\\n  10/20/22 10:22\n",
       "3590                         RAJASHEKAR V.T: Yes boss\\n  10/20/22 10:27\n",
       "\n",
       "[3591 rows x 2 columns]"
      ]
     },
     "execution_count": 176,
     "metadata": {},
     "output_type": "execute_result"
    }
   ],
   "source": [
    "df"
   ]
  },
  {
   "cell_type": "code",
   "execution_count": 177,
   "metadata": {},
   "outputs": [],
   "source": [
    "users=[]\n",
    "messages=[]\n",
    "    \n",
    "for message in df['user_messages']:\n",
    "    entry=re.split('([\\w\\W]+?):\\s',message)\n",
    "    if entry[1:]:\n",
    "            users.append(entry[1])\n",
    "            messages.append(entry[2])\n",
    "    else:\n",
    "        users.append('Group Notification')\n",
    "        messages.append(entry[0])   \n",
    "df['Users']=users\n",
    "df['Messages']=messages\n",
    " \n",
    "def getstring(text):\n",
    "    return text.split('\\n')[0]\n",
    "   \n"
   ]
  },
  {
   "cell_type": "code",
   "execution_count": 178,
   "metadata": {},
   "outputs": [],
   "source": [
    "df['Messages'] = df['Messages'].apply(lambda text: getstring(text))\n",
    "\n",
    "df = df.drop(['user_messages'], axis=1)\n",
    "\n"
   ]
  },
  {
   "cell_type": "code",
   "execution_count": 179,
   "metadata": {},
   "outputs": [
    {
     "data": {
      "text/html": [
       "<div>\n",
       "<style scoped>\n",
       "    .dataframe tbody tr th:only-of-type {\n",
       "        vertical-align: middle;\n",
       "    }\n",
       "\n",
       "    .dataframe tbody tr th {\n",
       "        vertical-align: top;\n",
       "    }\n",
       "\n",
       "    .dataframe thead th {\n",
       "        text-align: right;\n",
       "    }\n",
       "</style>\n",
       "<table border=\"1\" class=\"dataframe\">\n",
       "  <thead>\n",
       "    <tr style=\"text-align: right;\">\n",
       "      <th></th>\n",
       "      <th>Date</th>\n",
       "      <th>Users</th>\n",
       "      <th>Messages</th>\n",
       "    </tr>\n",
       "  </thead>\n",
       "  <tbody>\n",
       "    <tr>\n",
       "      <th>0</th>\n",
       "      <td>4/28/21 1:58</td>\n",
       "      <td>Group Notification</td>\n",
       "      <td>Messages and calls are end-to-end encrypted. N...</td>\n",
       "    </tr>\n",
       "    <tr>\n",
       "      <th>1</th>\n",
       "      <td>7/30/20 7:23</td>\n",
       "      <td>Group Notification</td>\n",
       "      <td>Vignesh created group \"Valorant boys🔪🗡️🛡️🔫💣🧨\"</td>\n",
       "    </tr>\n",
       "    <tr>\n",
       "      <th>2</th>\n",
       "      <td>4/28/21 1:58</td>\n",
       "      <td>Group Notification</td>\n",
       "      <td>Vishwajith Krishna added you</td>\n",
       "    </tr>\n",
       "    <tr>\n",
       "      <th>3</th>\n",
       "      <td>4/29/21 4:47</td>\n",
       "      <td>RAJASHEKAR V.T</td>\n",
       "      <td>https://youtu.be/h-0NbkvYBRU</td>\n",
       "    </tr>\n",
       "    <tr>\n",
       "      <th>4</th>\n",
       "      <td>4/29/21 4:49</td>\n",
       "      <td>Vignesh</td>\n",
       "      <td>Pro👌🏼</td>\n",
       "    </tr>\n",
       "    <tr>\n",
       "      <th>...</th>\n",
       "      <td>...</td>\n",
       "      <td>...</td>\n",
       "      <td>...</td>\n",
       "    </tr>\n",
       "    <tr>\n",
       "      <th>3586</th>\n",
       "      <td>10/19/22 11:43</td>\n",
       "      <td>Vishwajith Krishna</td>\n",
       "      <td>Bro</td>\n",
       "    </tr>\n",
       "    <tr>\n",
       "      <th>3587</th>\n",
       "      <td>10/19/22 11:43</td>\n",
       "      <td>Vishwajith Krishna</td>\n",
       "      <td>🥲🔫</td>\n",
       "    </tr>\n",
       "    <tr>\n",
       "      <th>3588</th>\n",
       "      <td>10/19/22 11:44</td>\n",
       "      <td>RAJASHEKAR V.T</td>\n",
       "      <td>🤝🤝😂😂</td>\n",
       "    </tr>\n",
       "    <tr>\n",
       "      <th>3589</th>\n",
       "      <td>10/20/22 10:22</td>\n",
       "      <td>Mr. Smokey</td>\n",
       "      <td>Anyone playing?</td>\n",
       "    </tr>\n",
       "    <tr>\n",
       "      <th>3590</th>\n",
       "      <td>10/20/22 10:27</td>\n",
       "      <td>RAJASHEKAR V.T</td>\n",
       "      <td>Yes boss</td>\n",
       "    </tr>\n",
       "  </tbody>\n",
       "</table>\n",
       "<p>3591 rows × 3 columns</p>\n",
       "</div>"
      ],
      "text/plain": [
       "                Date               Users  \\\n",
       "0       4/28/21 1:58  Group Notification   \n",
       "1       7/30/20 7:23  Group Notification   \n",
       "2       4/28/21 1:58  Group Notification   \n",
       "3       4/29/21 4:47      RAJASHEKAR V.T   \n",
       "4       4/29/21 4:49             Vignesh   \n",
       "...              ...                 ...   \n",
       "3586  10/19/22 11:43  Vishwajith Krishna   \n",
       "3587  10/19/22 11:43  Vishwajith Krishna   \n",
       "3588  10/19/22 11:44      RAJASHEKAR V.T   \n",
       "3589  10/20/22 10:22          Mr. Smokey   \n",
       "3590  10/20/22 10:27      RAJASHEKAR V.T   \n",
       "\n",
       "                                               Messages  \n",
       "0     Messages and calls are end-to-end encrypted. N...  \n",
       "1         Vignesh created group \"Valorant boys🔪🗡️🛡️🔫💣🧨\"  \n",
       "2                          Vishwajith Krishna added you  \n",
       "3                          https://youtu.be/h-0NbkvYBRU  \n",
       "4                                                 Pro👌🏼  \n",
       "...                                                 ...  \n",
       "3586                                                Bro  \n",
       "3587                                                 🥲🔫  \n",
       "3588                                               🤝🤝😂😂  \n",
       "3589                                    Anyone playing?  \n",
       "3590                                           Yes boss  \n",
       "\n",
       "[3591 rows x 3 columns]"
      ]
     },
     "execution_count": 179,
     "metadata": {},
     "output_type": "execute_result"
    }
   ],
   "source": [
    "df"
   ]
  },
  {
   "cell_type": "code",
   "execution_count": 180,
   "metadata": {},
   "outputs": [],
   "source": [
    "\n",
    "\n",
    "df['Only date'] = pd.to_datetime(df['Date']).dt.date\n",
    "\n",
    "df['Year'] = pd.to_datetime(df['Date']).dt.year\n",
    "\n",
    "df['Month_num'] = pd.to_datetime(df['Date']).dt.month\n",
    "\n",
    "df['Month'] = pd.to_datetime(df['Date']).dt.month_name()\n",
    "\n",
    "df['Day'] = pd.to_datetime(df['Date']).dt.day\n",
    "\n",
    "df['Day_name'] = pd.to_datetime(df['Date']).dt.day_name()\n",
    "\n",
    "df['Hour'] = pd.to_datetime(df['Date']).dt.hour\n",
    "\n",
    "df['Minute'] = pd.to_datetime(df['Date']).dt.minute"
   ]
  },
  {
   "cell_type": "code",
   "execution_count": 181,
   "metadata": {},
   "outputs": [
    {
     "data": {
      "text/html": [
       "<div>\n",
       "<style scoped>\n",
       "    .dataframe tbody tr th:only-of-type {\n",
       "        vertical-align: middle;\n",
       "    }\n",
       "\n",
       "    .dataframe tbody tr th {\n",
       "        vertical-align: top;\n",
       "    }\n",
       "\n",
       "    .dataframe thead th {\n",
       "        text-align: right;\n",
       "    }\n",
       "</style>\n",
       "<table border=\"1\" class=\"dataframe\">\n",
       "  <thead>\n",
       "    <tr style=\"text-align: right;\">\n",
       "      <th></th>\n",
       "      <th>Date</th>\n",
       "      <th>Users</th>\n",
       "      <th>Messages</th>\n",
       "      <th>Only date</th>\n",
       "      <th>Year</th>\n",
       "      <th>Month_num</th>\n",
       "      <th>Month</th>\n",
       "      <th>Day</th>\n",
       "      <th>Day_name</th>\n",
       "      <th>Hour</th>\n",
       "      <th>Minute</th>\n",
       "    </tr>\n",
       "  </thead>\n",
       "  <tbody>\n",
       "    <tr>\n",
       "      <th>0</th>\n",
       "      <td>4/28/21 1:58</td>\n",
       "      <td>Group Notification</td>\n",
       "      <td>Messages and calls are end-to-end encrypted. N...</td>\n",
       "      <td>2021-04-28</td>\n",
       "      <td>2021</td>\n",
       "      <td>4</td>\n",
       "      <td>April</td>\n",
       "      <td>28</td>\n",
       "      <td>Wednesday</td>\n",
       "      <td>1</td>\n",
       "      <td>58</td>\n",
       "    </tr>\n",
       "    <tr>\n",
       "      <th>1</th>\n",
       "      <td>7/30/20 7:23</td>\n",
       "      <td>Group Notification</td>\n",
       "      <td>Vignesh created group \"Valorant boys🔪🗡️🛡️🔫💣🧨\"</td>\n",
       "      <td>2020-07-30</td>\n",
       "      <td>2020</td>\n",
       "      <td>7</td>\n",
       "      <td>July</td>\n",
       "      <td>30</td>\n",
       "      <td>Thursday</td>\n",
       "      <td>7</td>\n",
       "      <td>23</td>\n",
       "    </tr>\n",
       "    <tr>\n",
       "      <th>2</th>\n",
       "      <td>4/28/21 1:58</td>\n",
       "      <td>Group Notification</td>\n",
       "      <td>Vishwajith Krishna added you</td>\n",
       "      <td>2021-04-28</td>\n",
       "      <td>2021</td>\n",
       "      <td>4</td>\n",
       "      <td>April</td>\n",
       "      <td>28</td>\n",
       "      <td>Wednesday</td>\n",
       "      <td>1</td>\n",
       "      <td>58</td>\n",
       "    </tr>\n",
       "    <tr>\n",
       "      <th>3</th>\n",
       "      <td>4/29/21 4:47</td>\n",
       "      <td>RAJASHEKAR V.T</td>\n",
       "      <td>https://youtu.be/h-0NbkvYBRU</td>\n",
       "      <td>2021-04-29</td>\n",
       "      <td>2021</td>\n",
       "      <td>4</td>\n",
       "      <td>April</td>\n",
       "      <td>29</td>\n",
       "      <td>Thursday</td>\n",
       "      <td>4</td>\n",
       "      <td>47</td>\n",
       "    </tr>\n",
       "    <tr>\n",
       "      <th>4</th>\n",
       "      <td>4/29/21 4:49</td>\n",
       "      <td>Vignesh</td>\n",
       "      <td>Pro👌🏼</td>\n",
       "      <td>2021-04-29</td>\n",
       "      <td>2021</td>\n",
       "      <td>4</td>\n",
       "      <td>April</td>\n",
       "      <td>29</td>\n",
       "      <td>Thursday</td>\n",
       "      <td>4</td>\n",
       "      <td>49</td>\n",
       "    </tr>\n",
       "  </tbody>\n",
       "</table>\n",
       "</div>"
      ],
      "text/plain": [
       "           Date               Users  \\\n",
       "0  4/28/21 1:58  Group Notification   \n",
       "1  7/30/20 7:23  Group Notification   \n",
       "2  4/28/21 1:58  Group Notification   \n",
       "3  4/29/21 4:47      RAJASHEKAR V.T   \n",
       "4  4/29/21 4:49             Vignesh   \n",
       "\n",
       "                                            Messages   Only date  Year  \\\n",
       "0  Messages and calls are end-to-end encrypted. N...  2021-04-28  2021   \n",
       "1      Vignesh created group \"Valorant boys🔪🗡️🛡️🔫💣🧨\"  2020-07-30  2020   \n",
       "2                       Vishwajith Krishna added you  2021-04-28  2021   \n",
       "3                       https://youtu.be/h-0NbkvYBRU  2021-04-29  2021   \n",
       "4                                              Pro👌🏼  2021-04-29  2021   \n",
       "\n",
       "   Month_num  Month  Day   Day_name  Hour  Minute  \n",
       "0          4  April   28  Wednesday     1      58  \n",
       "1          7   July   30   Thursday     7      23  \n",
       "2          4  April   28  Wednesday     1      58  \n",
       "3          4  April   29   Thursday     4      47  \n",
       "4          4  April   29   Thursday     4      49  "
      ]
     },
     "execution_count": 181,
     "metadata": {},
     "output_type": "execute_result"
    }
   ],
   "source": [
    "df.head()"
   ]
  },
  {
   "cell_type": "code",
   "execution_count": 182,
   "metadata": {},
   "outputs": [],
   "source": [
    "mediaomitted=df[df['Messages']=='<Media omitted>']"
   ]
  },
  {
   "cell_type": "code",
   "execution_count": 183,
   "metadata": {},
   "outputs": [
    {
     "data": {
      "text/plain": [
       "RAJASHEKAR V.T        1129\n",
       "Vishwajith Krishna    1030\n",
       "Kalla Brahmana         553\n",
       "Vignesh                268\n",
       "+91 97418 41142        211\n",
       "Name: Users, dtype: int64"
      ]
     },
     "execution_count": 183,
     "metadata": {},
     "output_type": "execute_result"
    }
   ],
   "source": [
    "df=df[df['Users']!='Group Notification']\n",
    "count=df['Users'].value_counts().head()\n",
    "count"
   ]
  },
  {
   "cell_type": "code",
   "execution_count": 184,
   "metadata": {},
   "outputs": [],
   "source": [
    "new_df=pd.DataFrame((df['Users'].value_counts()/df.shape[0])*100)"
   ]
  },
  {
   "cell_type": "code",
   "execution_count": 185,
   "metadata": {},
   "outputs": [
    {
     "data": {
      "text/html": [
       "<div>\n",
       "<style scoped>\n",
       "    .dataframe tbody tr th:only-of-type {\n",
       "        vertical-align: middle;\n",
       "    }\n",
       "\n",
       "    .dataframe tbody tr th {\n",
       "        vertical-align: top;\n",
       "    }\n",
       "\n",
       "    .dataframe thead th {\n",
       "        text-align: right;\n",
       "    }\n",
       "</style>\n",
       "<table border=\"1\" class=\"dataframe\">\n",
       "  <thead>\n",
       "    <tr style=\"text-align: right;\">\n",
       "      <th></th>\n",
       "      <th>Users</th>\n",
       "    </tr>\n",
       "  </thead>\n",
       "  <tbody>\n",
       "    <tr>\n",
       "      <th>RAJASHEKAR V.T</th>\n",
       "      <td>31.545124</td>\n",
       "    </tr>\n",
       "    <tr>\n",
       "      <th>Vishwajith Krishna</th>\n",
       "      <td>28.778989</td>\n",
       "    </tr>\n",
       "    <tr>\n",
       "      <th>Kalla Brahmana</th>\n",
       "      <td>15.451243</td>\n",
       "    </tr>\n",
       "    <tr>\n",
       "      <th>Vignesh</th>\n",
       "      <td>7.488125</td>\n",
       "    </tr>\n",
       "    <tr>\n",
       "      <th>+91 97418 41142</th>\n",
       "      <td>5.895502</td>\n",
       "    </tr>\n",
       "    <tr>\n",
       "      <th>Mr. Smokey</th>\n",
       "      <td>5.727857</td>\n",
       "    </tr>\n",
       "    <tr>\n",
       "      <th>+91 74110 10400</th>\n",
       "      <td>1.955854</td>\n",
       "    </tr>\n",
       "    <tr>\n",
       "      <th>Ujwal Narayan</th>\n",
       "      <td>1.536742</td>\n",
       "    </tr>\n",
       "    <tr>\n",
       "      <th>+91 94837 19109</th>\n",
       "      <td>1.313216</td>\n",
       "    </tr>\n",
       "    <tr>\n",
       "      <th>Aki</th>\n",
       "      <td>0.307348</td>\n",
       "    </tr>\n",
       "  </tbody>\n",
       "</table>\n",
       "</div>"
      ],
      "text/plain": [
       "                        Users\n",
       "RAJASHEKAR V.T      31.545124\n",
       "Vishwajith Krishna  28.778989\n",
       "Kalla Brahmana      15.451243\n",
       "Vignesh              7.488125\n",
       "+91 97418 41142      5.895502\n",
       "Mr. Smokey           5.727857\n",
       "+91 74110 10400      1.955854\n",
       "Ujwal Narayan        1.536742\n",
       "+91 94837 19109      1.313216\n",
       "Aki                  0.307348"
      ]
     },
     "execution_count": 185,
     "metadata": {},
     "output_type": "execute_result"
    }
   ],
   "source": [
    "new_df"
   ]
  },
  {
   "cell_type": "code",
   "execution_count": 186,
   "metadata": {},
   "outputs": [
    {
     "data": {
      "text/plain": [
       "(array([0, 1, 2, 3, 4]),\n",
       " [Text(0, 0, 'RAJASHEKAR V.T'),\n",
       "  Text(1, 0, 'Vishwajith Krishna'),\n",
       "  Text(2, 0, 'Kalla Brahmana'),\n",
       "  Text(3, 0, 'Vignesh'),\n",
       "  Text(4, 0, '+91 97418 41142')])"
      ]
     },
     "execution_count": 186,
     "metadata": {},
     "output_type": "execute_result"
    },
    {
     "data": {
      "image/png": "[encoded data removed]",
      "text/plain": [
       "<Figure size 640x480 with 1 Axes>"
      ]
     },
     "metadata": {},
     "output_type": "display_data"
    }
   ],
   "source": [
    "import matplotlib.pyplot as plt;\n",
    "import seaborn as sns;\n",
    "fig,ax=plt.subplots()\n",
    "sns.barplot(x=count.index,y=count.values,data=new_df,palette='plasma')\n",
    "plt.xticks(rotation='vertical')"
   ]
  },
  {
   "cell_type": "code",
   "execution_count": 187,
   "metadata": {},
   "outputs": [],
   "source": [
    "from wordcloud import WordCloud;\n",
    "df=df[df['Users']=='Vignesh']\n",
    "wc = WordCloud(width=500, height=500,\n",
    "                   min_font_size=10, background_color='white')\n",
    "df_wc = wc.generate(df['Messages'].str.cat(sep=\" \"))"
   ]
  },
  {
   "cell_type": "code",
   "execution_count": 188,
   "metadata": {},
   "outputs": [
    {
     "data": {
      "text/plain": [
       "<matplotlib.image.AxesImage at 0x23af093b5e0>"
      ]
     },
     "execution_count": 188,
     "metadata": {},
     "output_type": "execute_result"
    },
    {
     "data": {
      "image/png": "[encoded data removed]",
      "text/plain": [
       "<Figure size 640x480 with 1 Axes>"
      ]
     },
     "metadata": {},
     "output_type": "display_data"
    }
   ],
   "source": [
    "\n",
    "%matplotlib inline\n",
    "df_wc\n",
    "plt.imshow(df_wc)"
   ]
  },
  {
   "cell_type": "code",
   "execution_count": 189,
   "metadata": {},
   "outputs": [],
   "source": [
    "from nltk.corpus import stopwords;\n",
    "df=df[df['Users']=='Vignesh']\n",
    "words=[]\n",
    "temp=df[(df['Users']!='Group Notification') | (df['Users']!='<Media omitted>')]\n",
    "for message in temp['Messages']:\n",
    "    for word in message.lower().split():\n",
    "        if word not in stopwords.words('english'):\n",
    "            words.append(word)"
   ]
  },
  {
   "cell_type": "code",
   "execution_count": 190,
   "metadata": {},
   "outputs": [
    {
     "data": {
      "text/plain": [
       "['pro👌🏼', 'tenz', 'lite', 'mean', 'gold']"
      ]
     },
     "execution_count": 190,
     "metadata": {},
     "output_type": "execute_result"
    }
   ],
   "source": [
    "words[:5]"
   ]
  },
  {
   "cell_type": "code",
   "execution_count": 191,
   "metadata": {},
   "outputs": [],
   "source": [
    "from collections import Counter;\n",
    "mostcommon=pd.DataFrame(Counter(words).most_common(20))"
   ]
  },
  {
   "cell_type": "code",
   "execution_count": 192,
   "metadata": {},
   "outputs": [
    {
     "data": {
      "text/html": [
       "<div>\n",
       "<style scoped>\n",
       "    .dataframe tbody tr th:only-of-type {\n",
       "        vertical-align: middle;\n",
       "    }\n",
       "\n",
       "    .dataframe tbody tr th {\n",
       "        vertical-align: top;\n",
       "    }\n",
       "\n",
       "    .dataframe thead th {\n",
       "        text-align: right;\n",
       "    }\n",
       "</style>\n",
       "<table border=\"1\" class=\"dataframe\">\n",
       "  <thead>\n",
       "    <tr style=\"text-align: right;\">\n",
       "      <th></th>\n",
       "      <th>0</th>\n",
       "      <th>1</th>\n",
       "    </tr>\n",
       "  </thead>\n",
       "  <tbody>\n",
       "    <tr>\n",
       "      <th>0</th>\n",
       "      <td>😂😂</td>\n",
       "      <td>15</td>\n",
       "    </tr>\n",
       "    <tr>\n",
       "      <th>1</th>\n",
       "      <td>get</td>\n",
       "      <td>14</td>\n",
       "    </tr>\n",
       "    <tr>\n",
       "      <th>2</th>\n",
       "      <td>bro</td>\n",
       "      <td>13</td>\n",
       "    </tr>\n",
       "    <tr>\n",
       "      <th>3</th>\n",
       "      <td>&lt;media</td>\n",
       "      <td>10</td>\n",
       "    </tr>\n",
       "    <tr>\n",
       "      <th>4</th>\n",
       "      <td>omitted&gt;</td>\n",
       "      <td>10</td>\n",
       "    </tr>\n",
       "    <tr>\n",
       "      <th>5</th>\n",
       "      <td>😂😂😂</td>\n",
       "      <td>8</td>\n",
       "    </tr>\n",
       "    <tr>\n",
       "      <th>6</th>\n",
       "      <td>vishu</td>\n",
       "      <td>7</td>\n",
       "    </tr>\n",
       "    <tr>\n",
       "      <th>7</th>\n",
       "      <td>one</td>\n",
       "      <td>7</td>\n",
       "    </tr>\n",
       "    <tr>\n",
       "      <th>8</th>\n",
       "      <td>like</td>\n",
       "      <td>7</td>\n",
       "    </tr>\n",
       "    <tr>\n",
       "      <th>9</th>\n",
       "      <td>ace</td>\n",
       "      <td>7</td>\n",
       "    </tr>\n",
       "    <tr>\n",
       "      <th>10</th>\n",
       "      <td>2</td>\n",
       "      <td>7</td>\n",
       "    </tr>\n",
       "    <tr>\n",
       "      <th>11</th>\n",
       "      <td>kv</td>\n",
       "      <td>6</td>\n",
       "    </tr>\n",
       "    <tr>\n",
       "      <th>12</th>\n",
       "      <td>kills</td>\n",
       "      <td>6</td>\n",
       "    </tr>\n",
       "    <tr>\n",
       "      <th>13</th>\n",
       "      <td>dm</td>\n",
       "      <td>6</td>\n",
       "    </tr>\n",
       "    <tr>\n",
       "      <th>14</th>\n",
       "      <td>brim</td>\n",
       "      <td>5</td>\n",
       "    </tr>\n",
       "    <tr>\n",
       "      <th>15</th>\n",
       "      <td>go</td>\n",
       "      <td>5</td>\n",
       "    </tr>\n",
       "    <tr>\n",
       "      <th>16</th>\n",
       "      <td>say</td>\n",
       "      <td>4</td>\n",
       "    </tr>\n",
       "    <tr>\n",
       "      <th>17</th>\n",
       "      <td>tell</td>\n",
       "      <td>4</td>\n",
       "    </tr>\n",
       "    <tr>\n",
       "      <th>18</th>\n",
       "      <td>getting</td>\n",
       "      <td>4</td>\n",
       "    </tr>\n",
       "    <tr>\n",
       "      <th>19</th>\n",
       "      <td>you😂😂</td>\n",
       "      <td>4</td>\n",
       "    </tr>\n",
       "  </tbody>\n",
       "</table>\n",
       "</div>"
      ],
      "text/plain": [
       "           0   1\n",
       "0         😂😂  15\n",
       "1        get  14\n",
       "2        bro  13\n",
       "3     <media  10\n",
       "4   omitted>  10\n",
       "5        😂😂😂   8\n",
       "6      vishu   7\n",
       "7        one   7\n",
       "8       like   7\n",
       "9        ace   7\n",
       "10         2   7\n",
       "11        kv   6\n",
       "12     kills   6\n",
       "13        dm   6\n",
       "14      brim   5\n",
       "15        go   5\n",
       "16       say   4\n",
       "17      tell   4\n",
       "18   getting   4\n",
       "19     you😂😂   4"
      ]
     },
     "execution_count": 192,
     "metadata": {},
     "output_type": "execute_result"
    }
   ],
   "source": [
    "mostcommon"
   ]
  },
  {
   "cell_type": "code",
   "execution_count": 193,
   "metadata": {},
   "outputs": [
    {
     "data": {
      "text/plain": [
       "<AxesSubplot:xlabel='1', ylabel='0'>"
      ]
     },
     "execution_count": 193,
     "metadata": {},
     "output_type": "execute_result"
    },
    {
     "data": {
      "image/png": "[encoded data removed]",
      "text/plain": [
       "<Figure size 640x480 with 1 Axes>"
      ]
     },
     "metadata": {},
     "output_type": "display_data"
    }
   ],
   "source": [
    "fig,ax=plt.subplots()\n",
    "sns.barplot(y=mostcommon[0],x=mostcommon[1])"
   ]
  },
  {
   "cell_type": "code",
   "execution_count": 194,
   "metadata": {},
   "outputs": [],
   "source": [
    "import emoji;"
   ]
  },
  {
   "cell_type": "code",
   "execution_count": 195,
   "metadata": {},
   "outputs": [],
   "source": [
    "emojiz=[]\n",
    "for message in df['Messages']:\n",
    "    emojis=([c for c in message if c in emoji.distinct_emoji_list(message)])\n",
    "    emojiz.extend(emojis)"
   ]
  },
  {
   "cell_type": "code",
   "execution_count": 196,
   "metadata": {},
   "outputs": [
    {
     "data": {
      "text/plain": [
       "array(['🌚', '🎂', '🎊', '👌', '💥', '📈', '😂', '😎', '😯', '🤝', '🤡'], dtype='<U1')"
      ]
     },
     "execution_count": 196,
     "metadata": {},
     "output_type": "execute_result"
    }
   ],
   "source": [
    "np.unique(emojiz)"
   ]
  },
  {
   "cell_type": "code",
   "execution_count": 197,
   "metadata": {},
   "outputs": [],
   "source": [
    "for message in df['Messages']:\n",
    "        emojis.extend([c for c in message if c in emoji.distinct_emoji_list(message)])"
   ]
  },
  {
   "cell_type": "code",
   "execution_count": 198,
   "metadata": {},
   "outputs": [
    {
     "data": {
      "text/plain": [
       "array(['🌚', '🎂', '🎊', '👌', '💥', '📈', '😂', '😎', '😯', '🤝', '🤡'], dtype='<U1')"
      ]
     },
     "execution_count": 198,
     "metadata": {},
     "output_type": "execute_result"
    }
   ],
   "source": [
    "np.unique(emojis)"
   ]
  },
  {
   "cell_type": "code",
   "execution_count": 199,
   "metadata": {},
   "outputs": [],
   "source": [
    "emoji_df=pd.DataFrame(Counter(emojis).most_common(len(Counter(emojis))))"
   ]
  },
  {
   "cell_type": "code",
   "execution_count": 200,
   "metadata": {},
   "outputs": [
    {
     "data": {
      "text/html": [
       "<div>\n",
       "<style scoped>\n",
       "    .dataframe tbody tr th:only-of-type {\n",
       "        vertical-align: middle;\n",
       "    }\n",
       "\n",
       "    .dataframe tbody tr th {\n",
       "        vertical-align: top;\n",
       "    }\n",
       "\n",
       "    .dataframe thead th {\n",
       "        text-align: right;\n",
       "    }\n",
       "</style>\n",
       "<table border=\"1\" class=\"dataframe\">\n",
       "  <thead>\n",
       "    <tr style=\"text-align: right;\">\n",
       "      <th></th>\n",
       "      <th>0</th>\n",
       "      <th>1</th>\n",
       "    </tr>\n",
       "  </thead>\n",
       "  <tbody>\n",
       "    <tr>\n",
       "      <th>0</th>\n",
       "      <td>😂</td>\n",
       "      <td>193</td>\n",
       "    </tr>\n",
       "    <tr>\n",
       "      <th>1</th>\n",
       "      <td>🌚</td>\n",
       "      <td>4</td>\n",
       "    </tr>\n",
       "    <tr>\n",
       "      <th>2</th>\n",
       "      <td>🤝</td>\n",
       "      <td>4</td>\n",
       "    </tr>\n",
       "    <tr>\n",
       "      <th>3</th>\n",
       "      <td>💥</td>\n",
       "      <td>2</td>\n",
       "    </tr>\n",
       "    <tr>\n",
       "      <th>4</th>\n",
       "      <td>🤡</td>\n",
       "      <td>2</td>\n",
       "    </tr>\n",
       "    <tr>\n",
       "      <th>5</th>\n",
       "      <td>📈</td>\n",
       "      <td>1</td>\n",
       "    </tr>\n",
       "    <tr>\n",
       "      <th>6</th>\n",
       "      <td>🎊</td>\n",
       "      <td>1</td>\n",
       "    </tr>\n",
       "    <tr>\n",
       "      <th>7</th>\n",
       "      <td>🎂</td>\n",
       "      <td>1</td>\n",
       "    </tr>\n",
       "    <tr>\n",
       "      <th>8</th>\n",
       "      <td>😯</td>\n",
       "      <td>1</td>\n",
       "    </tr>\n",
       "    <tr>\n",
       "      <th>9</th>\n",
       "      <td>👌</td>\n",
       "      <td>1</td>\n",
       "    </tr>\n",
       "    <tr>\n",
       "      <th>10</th>\n",
       "      <td>😎</td>\n",
       "      <td>1</td>\n",
       "    </tr>\n",
       "  </tbody>\n",
       "</table>\n",
       "</div>"
      ],
      "text/plain": [
       "    0    1\n",
       "0   😂  193\n",
       "1   🌚    4\n",
       "2   🤝    4\n",
       "3   💥    2\n",
       "4   🤡    2\n",
       "5   📈    1\n",
       "6   🎊    1\n",
       "7   🎂    1\n",
       "8   😯    1\n",
       "9   👌    1\n",
       "10  😎    1"
      ]
     },
     "execution_count": 200,
     "metadata": {},
     "output_type": "execute_result"
    }
   ],
   "source": [
    "emoji_df"
   ]
  },
  {
   "cell_type": "code",
   "execution_count": 201,
   "metadata": {},
   "outputs": [],
   "source": [
    "emoji_df.columns=['Emoji','Count']"
   ]
  },
  {
   "cell_type": "code",
   "execution_count": 202,
   "metadata": {},
   "outputs": [],
   "source": [
    "emojicount=list(emoji_df['Count'])\n",
    "perlist=[(i/sum(emojicount))*100 for i in emojicount]"
   ]
  },
  {
   "cell_type": "code",
   "execution_count": 203,
   "metadata": {},
   "outputs": [
    {
     "data": {
      "text/plain": [
       "[91.4691943127962,\n",
       " 1.8957345971563981,\n",
       " 1.8957345971563981,\n",
       " 0.9478672985781991,\n",
       " 0.9478672985781991,\n",
       " 0.47393364928909953,\n",
       " 0.47393364928909953,\n",
       " 0.47393364928909953,\n",
       " 0.47393364928909953,\n",
       " 0.47393364928909953,\n",
       " 0.47393364928909953]"
      ]
     },
     "execution_count": 203,
     "metadata": {},
     "output_type": "execute_result"
    }
   ],
   "source": [
    "perlist"
   ]
  },
  {
   "cell_type": "code",
   "execution_count": 204,
   "metadata": {},
   "outputs": [],
   "source": [
    "temp=df.groupby(['Year','Month_num','Month']).count()['Messages'].reset_index()\n",
    "time=[]\n",
    "for i in range(temp.shape[0]):\n",
    "        time.append(temp['Month'][i]+'-'+str(temp['Year'][i]))  "
   ]
  },
  {
   "cell_type": "code",
   "execution_count": 205,
   "metadata": {},
   "outputs": [
    {
     "data": {
      "text/html": [
       "<div>\n",
       "<style scoped>\n",
       "    .dataframe tbody tr th:only-of-type {\n",
       "        vertical-align: middle;\n",
       "    }\n",
       "\n",
       "    .dataframe tbody tr th {\n",
       "        vertical-align: top;\n",
       "    }\n",
       "\n",
       "    .dataframe thead th {\n",
       "        text-align: right;\n",
       "    }\n",
       "</style>\n",
       "<table border=\"1\" class=\"dataframe\">\n",
       "  <thead>\n",
       "    <tr style=\"text-align: right;\">\n",
       "      <th></th>\n",
       "      <th>Year</th>\n",
       "      <th>Month_num</th>\n",
       "      <th>Month</th>\n",
       "      <th>Messages</th>\n",
       "    </tr>\n",
       "  </thead>\n",
       "  <tbody>\n",
       "    <tr>\n",
       "      <th>0</th>\n",
       "      <td>2021</td>\n",
       "      <td>4</td>\n",
       "      <td>April</td>\n",
       "      <td>1</td>\n",
       "    </tr>\n",
       "    <tr>\n",
       "      <th>1</th>\n",
       "      <td>2021</td>\n",
       "      <td>7</td>\n",
       "      <td>July</td>\n",
       "      <td>13</td>\n",
       "    </tr>\n",
       "    <tr>\n",
       "      <th>2</th>\n",
       "      <td>2021</td>\n",
       "      <td>8</td>\n",
       "      <td>August</td>\n",
       "      <td>1</td>\n",
       "    </tr>\n",
       "    <tr>\n",
       "      <th>3</th>\n",
       "      <td>2021</td>\n",
       "      <td>9</td>\n",
       "      <td>September</td>\n",
       "      <td>4</td>\n",
       "    </tr>\n",
       "    <tr>\n",
       "      <th>4</th>\n",
       "      <td>2021</td>\n",
       "      <td>10</td>\n",
       "      <td>October</td>\n",
       "      <td>5</td>\n",
       "    </tr>\n",
       "    <tr>\n",
       "      <th>5</th>\n",
       "      <td>2021</td>\n",
       "      <td>11</td>\n",
       "      <td>November</td>\n",
       "      <td>32</td>\n",
       "    </tr>\n",
       "    <tr>\n",
       "      <th>6</th>\n",
       "      <td>2021</td>\n",
       "      <td>12</td>\n",
       "      <td>December</td>\n",
       "      <td>18</td>\n",
       "    </tr>\n",
       "    <tr>\n",
       "      <th>7</th>\n",
       "      <td>2022</td>\n",
       "      <td>1</td>\n",
       "      <td>January</td>\n",
       "      <td>38</td>\n",
       "    </tr>\n",
       "    <tr>\n",
       "      <th>8</th>\n",
       "      <td>2022</td>\n",
       "      <td>2</td>\n",
       "      <td>February</td>\n",
       "      <td>23</td>\n",
       "    </tr>\n",
       "    <tr>\n",
       "      <th>9</th>\n",
       "      <td>2022</td>\n",
       "      <td>4</td>\n",
       "      <td>April</td>\n",
       "      <td>14</td>\n",
       "    </tr>\n",
       "    <tr>\n",
       "      <th>10</th>\n",
       "      <td>2022</td>\n",
       "      <td>5</td>\n",
       "      <td>May</td>\n",
       "      <td>41</td>\n",
       "    </tr>\n",
       "    <tr>\n",
       "      <th>11</th>\n",
       "      <td>2022</td>\n",
       "      <td>6</td>\n",
       "      <td>June</td>\n",
       "      <td>15</td>\n",
       "    </tr>\n",
       "    <tr>\n",
       "      <th>12</th>\n",
       "      <td>2022</td>\n",
       "      <td>7</td>\n",
       "      <td>July</td>\n",
       "      <td>13</td>\n",
       "    </tr>\n",
       "    <tr>\n",
       "      <th>13</th>\n",
       "      <td>2022</td>\n",
       "      <td>8</td>\n",
       "      <td>August</td>\n",
       "      <td>18</td>\n",
       "    </tr>\n",
       "    <tr>\n",
       "      <th>14</th>\n",
       "      <td>2022</td>\n",
       "      <td>9</td>\n",
       "      <td>September</td>\n",
       "      <td>15</td>\n",
       "    </tr>\n",
       "    <tr>\n",
       "      <th>15</th>\n",
       "      <td>2022</td>\n",
       "      <td>10</td>\n",
       "      <td>October</td>\n",
       "      <td>17</td>\n",
       "    </tr>\n",
       "  </tbody>\n",
       "</table>\n",
       "</div>"
      ],
      "text/plain": [
       "    Year  Month_num      Month  Messages\n",
       "0   2021          4      April         1\n",
       "1   2021          7       July        13\n",
       "2   2021          8     August         1\n",
       "3   2021          9  September         4\n",
       "4   2021         10    October         5\n",
       "5   2021         11   November        32\n",
       "6   2021         12   December        18\n",
       "7   2022          1    January        38\n",
       "8   2022          2   February        23\n",
       "9   2022          4      April        14\n",
       "10  2022          5        May        41\n",
       "11  2022          6       June        15\n",
       "12  2022          7       July        13\n",
       "13  2022          8     August        18\n",
       "14  2022          9  September        15\n",
       "15  2022         10    October        17"
      ]
     },
     "execution_count": 205,
     "metadata": {},
     "output_type": "execute_result"
    }
   ],
   "source": [
    "temp"
   ]
  },
  {
   "cell_type": "code",
   "execution_count": 206,
   "metadata": {},
   "outputs": [],
   "source": [
    "temp['Time']=time"
   ]
  },
  {
   "cell_type": "code",
   "execution_count": 207,
   "metadata": {},
   "outputs": [
    {
     "data": {
      "text/plain": [
       "0         April-2021\n",
       "1          July-2021\n",
       "2        August-2021\n",
       "3     September-2021\n",
       "4       October-2021\n",
       "5      November-2021\n",
       "6      December-2021\n",
       "7       January-2022\n",
       "8      February-2022\n",
       "9         April-2022\n",
       "10          May-2022\n",
       "11         June-2022\n",
       "12         July-2022\n",
       "13       August-2022\n",
       "14    September-2022\n",
       "15      October-2022\n",
       "Name: Time, dtype: object"
      ]
     },
     "execution_count": 207,
     "metadata": {},
     "output_type": "execute_result"
    }
   ],
   "source": [
    "temp['Time']"
   ]
  },
  {
   "cell_type": "code",
   "execution_count": 208,
   "metadata": {},
   "outputs": [
    {
     "data": {
      "text/html": [
       "<div>\n",
       "<style scoped>\n",
       "    .dataframe tbody tr th:only-of-type {\n",
       "        vertical-align: middle;\n",
       "    }\n",
       "\n",
       "    .dataframe tbody tr th {\n",
       "        vertical-align: top;\n",
       "    }\n",
       "\n",
       "    .dataframe thead th {\n",
       "        text-align: right;\n",
       "    }\n",
       "</style>\n",
       "<table border=\"1\" class=\"dataframe\">\n",
       "  <thead>\n",
       "    <tr style=\"text-align: right;\">\n",
       "      <th></th>\n",
       "      <th>Year</th>\n",
       "      <th>Month_num</th>\n",
       "      <th>Month</th>\n",
       "      <th>Messages</th>\n",
       "      <th>Time</th>\n",
       "    </tr>\n",
       "  </thead>\n",
       "  <tbody>\n",
       "    <tr>\n",
       "      <th>0</th>\n",
       "      <td>2021</td>\n",
       "      <td>4</td>\n",
       "      <td>April</td>\n",
       "      <td>1</td>\n",
       "      <td>April-2021</td>\n",
       "    </tr>\n",
       "    <tr>\n",
       "      <th>1</th>\n",
       "      <td>2021</td>\n",
       "      <td>7</td>\n",
       "      <td>July</td>\n",
       "      <td>13</td>\n",
       "      <td>July-2021</td>\n",
       "    </tr>\n",
       "    <tr>\n",
       "      <th>2</th>\n",
       "      <td>2021</td>\n",
       "      <td>8</td>\n",
       "      <td>August</td>\n",
       "      <td>1</td>\n",
       "      <td>August-2021</td>\n",
       "    </tr>\n",
       "    <tr>\n",
       "      <th>3</th>\n",
       "      <td>2021</td>\n",
       "      <td>9</td>\n",
       "      <td>September</td>\n",
       "      <td>4</td>\n",
       "      <td>September-2021</td>\n",
       "    </tr>\n",
       "    <tr>\n",
       "      <th>4</th>\n",
       "      <td>2021</td>\n",
       "      <td>10</td>\n",
       "      <td>October</td>\n",
       "      <td>5</td>\n",
       "      <td>October-2021</td>\n",
       "    </tr>\n",
       "    <tr>\n",
       "      <th>5</th>\n",
       "      <td>2021</td>\n",
       "      <td>11</td>\n",
       "      <td>November</td>\n",
       "      <td>32</td>\n",
       "      <td>November-2021</td>\n",
       "    </tr>\n",
       "    <tr>\n",
       "      <th>6</th>\n",
       "      <td>2021</td>\n",
       "      <td>12</td>\n",
       "      <td>December</td>\n",
       "      <td>18</td>\n",
       "      <td>December-2021</td>\n",
       "    </tr>\n",
       "    <tr>\n",
       "      <th>7</th>\n",
       "      <td>2022</td>\n",
       "      <td>1</td>\n",
       "      <td>January</td>\n",
       "      <td>38</td>\n",
       "      <td>January-2022</td>\n",
       "    </tr>\n",
       "    <tr>\n",
       "      <th>8</th>\n",
       "      <td>2022</td>\n",
       "      <td>2</td>\n",
       "      <td>February</td>\n",
       "      <td>23</td>\n",
       "      <td>February-2022</td>\n",
       "    </tr>\n",
       "    <tr>\n",
       "      <th>9</th>\n",
       "      <td>2022</td>\n",
       "      <td>4</td>\n",
       "      <td>April</td>\n",
       "      <td>14</td>\n",
       "      <td>April-2022</td>\n",
       "    </tr>\n",
       "    <tr>\n",
       "      <th>10</th>\n",
       "      <td>2022</td>\n",
       "      <td>5</td>\n",
       "      <td>May</td>\n",
       "      <td>41</td>\n",
       "      <td>May-2022</td>\n",
       "    </tr>\n",
       "    <tr>\n",
       "      <th>11</th>\n",
       "      <td>2022</td>\n",
       "      <td>6</td>\n",
       "      <td>June</td>\n",
       "      <td>15</td>\n",
       "      <td>June-2022</td>\n",
       "    </tr>\n",
       "    <tr>\n",
       "      <th>12</th>\n",
       "      <td>2022</td>\n",
       "      <td>7</td>\n",
       "      <td>July</td>\n",
       "      <td>13</td>\n",
       "      <td>July-2022</td>\n",
       "    </tr>\n",
       "    <tr>\n",
       "      <th>13</th>\n",
       "      <td>2022</td>\n",
       "      <td>8</td>\n",
       "      <td>August</td>\n",
       "      <td>18</td>\n",
       "      <td>August-2022</td>\n",
       "    </tr>\n",
       "    <tr>\n",
       "      <th>14</th>\n",
       "      <td>2022</td>\n",
       "      <td>9</td>\n",
       "      <td>September</td>\n",
       "      <td>15</td>\n",
       "      <td>September-2022</td>\n",
       "    </tr>\n",
       "    <tr>\n",
       "      <th>15</th>\n",
       "      <td>2022</td>\n",
       "      <td>10</td>\n",
       "      <td>October</td>\n",
       "      <td>17</td>\n",
       "      <td>October-2022</td>\n",
       "    </tr>\n",
       "  </tbody>\n",
       "</table>\n",
       "</div>"
      ],
      "text/plain": [
       "    Year  Month_num      Month  Messages            Time\n",
       "0   2021          4      April         1      April-2021\n",
       "1   2021          7       July        13       July-2021\n",
       "2   2021          8     August         1     August-2021\n",
       "3   2021          9  September         4  September-2021\n",
       "4   2021         10    October         5    October-2021\n",
       "5   2021         11   November        32   November-2021\n",
       "6   2021         12   December        18   December-2021\n",
       "7   2022          1    January        38    January-2022\n",
       "8   2022          2   February        23   February-2022\n",
       "9   2022          4      April        14      April-2022\n",
       "10  2022          5        May        41        May-2022\n",
       "11  2022          6       June        15       June-2022\n",
       "12  2022          7       July        13       July-2022\n",
       "13  2022          8     August        18     August-2022\n",
       "14  2022          9  September        15  September-2022\n",
       "15  2022         10    October        17    October-2022"
      ]
     },
     "execution_count": 208,
     "metadata": {},
     "output_type": "execute_result"
    }
   ],
   "source": [
    "temp"
   ]
  },
  {
   "cell_type": "code",
   "execution_count": 209,
   "metadata": {},
   "outputs": [
    {
     "name": "stderr",
     "output_type": "stream",
     "text": [
      "2022-10-22 20:51:05.498 INFO    matplotlib.category: Using categorical units to plot a list of strings that are all parsable as floats or dates. If these strings should be plotted as numbers, cast to the appropriate data type before plotting.\n",
      "2022-10-22 20:51:05.500 INFO    matplotlib.category: Using categorical units to plot a list of strings that are all parsable as floats or dates. If these strings should be plotted as numbers, cast to the appropriate data type before plotting.\n"
     ]
    },
    {
     "data": {
      "image/png": "[encoded data removed]",
      "text/plain": [
       "<Figure size 640x480 with 1 Axes>"
      ]
     },
     "metadata": {},
     "output_type": "display_data"
    }
   ],
   "source": [
    "\n",
    "fig,ax=plt.subplots()\n",
    "ax.plot(temp['Time'],temp['Messages'],color='#E0144C')\n",
    "plt.xticks(rotation='vertical')\n",
    "plt.tight_layout()"
   ]
  },
  {
   "cell_type": "code",
   "execution_count": 218,
   "metadata": {},
   "outputs": [
    {
     "data": {
      "text/plain": [
       "Index(['May', 'January', 'November', 'July', 'February', 'October', 'August',\n",
       "       'September', 'December', 'April', 'June'],\n",
       "      dtype='object')"
      ]
     },
     "execution_count": 218,
     "metadata": {},
     "output_type": "execute_result"
    }
   ],
   "source": [
    "busy_month=df['Month'].value_counts()\n",
    "busy_month.index"
   ]
  },
  {
   "cell_type": "code",
   "execution_count": 224,
   "metadata": {},
   "outputs": [
    {
     "data": {
      "image/png": "[encoded data removed]",
      "text/plain": [
       "<Figure size 640x480 with 1 Axes>"
      ]
     },
     "metadata": {},
     "output_type": "display_data"
    }
   ],
   "source": [
    "sns.barplot(x=sorted(busy_month.index),y=busy_month.values,)\n",
    "plt.xticks(rotation='vertical')\n",
    "plt.tight_layout()"
   ]
  },
  {
   "cell_type": "code",
   "execution_count": 229,
   "metadata": {},
   "outputs": [
    {
     "data": {
      "image/png": "[encoded data removed]",
      "text/plain": [
       "<Figure size 640x480 with 1 Axes>"
      ]
     },
     "metadata": {},
     "output_type": "display_data"
    }
   ],
   "source": [
    "busy_day=df['Day_name'].value_counts()\n",
    "sns.barplot(x=sorted(busy_day.index),y=busy_day.values)\n",
    "plt.xticks(rotation='vertical')\n",
    "plt.tight_layout()"
   ]
  },
  {
   "cell_type": "code",
   "execution_count": null,
   "metadata": {},
   "outputs": [],
   "source": []
  }
 ],
 "metadata": {
  "kernelspec": {
   "display_name": "Python 3.9.13",
   "language": "python",
   "name": "python3"
  },
  "language_info": {
   "codemirror_mode": {
    "name": "ipython",
    "version": 3
   },
   "file_extension": ".py",
   "mimetype": "text/x-python",
   "name": "python",
   "nbconvert_exporter": "python",
   "pygments_lexer": "ipython3",
   "version": "3.9.13"
  },
  "orig_nbformat": 4,
  "vscode": {
   "interpreter": {
    "hash": "d429fc8f8d258f93e65df4f2c61dc899267107a5a109a617fa8f659faf2e1989"
   }
  }
 },
 "nbformat": 4,
 "nbformat_minor": 2
}
